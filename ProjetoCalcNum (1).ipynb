{
 "cells": [
  {
   "cell_type": "code",
   "execution_count": 37,
   "id": "1277e63a",
   "metadata": {
    "scrolled": false
   },
   "outputs": [
    {
     "name": "stdout",
     "output_type": "stream",
     "text": [
      "Número de linhas e colunas: (312, 10)\n"
     ]
    },
    {
     "data": {
      "text/html": [
       "<div>\n",
       "<style scoped>\n",
       "    .dataframe tbody tr th:only-of-type {\n",
       "        vertical-align: middle;\n",
       "    }\n",
       "\n",
       "    .dataframe tbody tr th {\n",
       "        vertical-align: top;\n",
       "    }\n",
       "\n",
       "    .dataframe thead th {\n",
       "        text-align: right;\n",
       "    }\n",
       "</style>\n",
       "<table border=\"1\" class=\"dataframe\">\n",
       "  <thead>\n",
       "    <tr style=\"text-align: right;\">\n",
       "      <th></th>\n",
       "      <th>Overall rank</th>\n",
       "      <th>Country or region</th>\n",
       "      <th>Year</th>\n",
       "      <th>Score</th>\n",
       "      <th>GDP per capita</th>\n",
       "      <th>Social support</th>\n",
       "      <th>Healthy life expectancy</th>\n",
       "      <th>Freedom to make life choices</th>\n",
       "      <th>Generosity</th>\n",
       "      <th>Perceptions of corruption</th>\n",
       "    </tr>\n",
       "  </thead>\n",
       "  <tbody>\n",
       "    <tr>\n",
       "      <th>0</th>\n",
       "      <td>154</td>\n",
       "      <td>Afghanistan</td>\n",
       "      <td>2019</td>\n",
       "      <td>3.203</td>\n",
       "      <td>0.350</td>\n",
       "      <td>0.517</td>\n",
       "      <td>0.361</td>\n",
       "      <td>0.000</td>\n",
       "      <td>0.158</td>\n",
       "      <td>0.025</td>\n",
       "    </tr>\n",
       "    <tr>\n",
       "      <th>1</th>\n",
       "      <td>145</td>\n",
       "      <td>Afghanistan</td>\n",
       "      <td>2018</td>\n",
       "      <td>3.632</td>\n",
       "      <td>0.332</td>\n",
       "      <td>0.537</td>\n",
       "      <td>0.255</td>\n",
       "      <td>0.085</td>\n",
       "      <td>0.191</td>\n",
       "      <td>0.036</td>\n",
       "    </tr>\n",
       "    <tr>\n",
       "      <th>2</th>\n",
       "      <td>107</td>\n",
       "      <td>Albania</td>\n",
       "      <td>2019</td>\n",
       "      <td>4.719</td>\n",
       "      <td>0.947</td>\n",
       "      <td>0.848</td>\n",
       "      <td>0.874</td>\n",
       "      <td>0.383</td>\n",
       "      <td>0.178</td>\n",
       "      <td>0.027</td>\n",
       "    </tr>\n",
       "    <tr>\n",
       "      <th>3</th>\n",
       "      <td>112</td>\n",
       "      <td>Albania</td>\n",
       "      <td>2018</td>\n",
       "      <td>4.586</td>\n",
       "      <td>0.916</td>\n",
       "      <td>0.817</td>\n",
       "      <td>0.790</td>\n",
       "      <td>0.419</td>\n",
       "      <td>0.149</td>\n",
       "      <td>0.032</td>\n",
       "    </tr>\n",
       "    <tr>\n",
       "      <th>4</th>\n",
       "      <td>88</td>\n",
       "      <td>Algeria</td>\n",
       "      <td>2019</td>\n",
       "      <td>5.211</td>\n",
       "      <td>1.002</td>\n",
       "      <td>1.160</td>\n",
       "      <td>0.785</td>\n",
       "      <td>0.086</td>\n",
       "      <td>0.073</td>\n",
       "      <td>0.114</td>\n",
       "    </tr>\n",
       "    <tr>\n",
       "      <th>5</th>\n",
       "      <td>84</td>\n",
       "      <td>Algeria</td>\n",
       "      <td>2018</td>\n",
       "      <td>5.295</td>\n",
       "      <td>0.979</td>\n",
       "      <td>1.154</td>\n",
       "      <td>0.687</td>\n",
       "      <td>0.077</td>\n",
       "      <td>0.055</td>\n",
       "      <td>0.135</td>\n",
       "    </tr>\n",
       "    <tr>\n",
       "      <th>6</th>\n",
       "      <td>142</td>\n",
       "      <td>Angola</td>\n",
       "      <td>2018</td>\n",
       "      <td>3.795</td>\n",
       "      <td>0.730</td>\n",
       "      <td>1.125</td>\n",
       "      <td>0.269</td>\n",
       "      <td>0.000</td>\n",
       "      <td>0.079</td>\n",
       "      <td>0.061</td>\n",
       "    </tr>\n",
       "    <tr>\n",
       "      <th>7</th>\n",
       "      <td>47</td>\n",
       "      <td>Argentina</td>\n",
       "      <td>2019</td>\n",
       "      <td>6.086</td>\n",
       "      <td>1.092</td>\n",
       "      <td>1.432</td>\n",
       "      <td>0.881</td>\n",
       "      <td>0.471</td>\n",
       "      <td>0.066</td>\n",
       "      <td>0.050</td>\n",
       "    </tr>\n",
       "    <tr>\n",
       "      <th>8</th>\n",
       "      <td>29</td>\n",
       "      <td>Argentina</td>\n",
       "      <td>2018</td>\n",
       "      <td>6.388</td>\n",
       "      <td>1.073</td>\n",
       "      <td>1.468</td>\n",
       "      <td>0.744</td>\n",
       "      <td>0.570</td>\n",
       "      <td>0.062</td>\n",
       "      <td>0.054</td>\n",
       "    </tr>\n",
       "    <tr>\n",
       "      <th>9</th>\n",
       "      <td>116</td>\n",
       "      <td>Armenia</td>\n",
       "      <td>2019</td>\n",
       "      <td>4.559</td>\n",
       "      <td>0.850</td>\n",
       "      <td>1.055</td>\n",
       "      <td>0.815</td>\n",
       "      <td>0.283</td>\n",
       "      <td>0.095</td>\n",
       "      <td>0.064</td>\n",
       "    </tr>\n",
       "    <tr>\n",
       "      <th>10</th>\n",
       "      <td>129</td>\n",
       "      <td>Armenia</td>\n",
       "      <td>2018</td>\n",
       "      <td>4.321</td>\n",
       "      <td>0.816</td>\n",
       "      <td>0.990</td>\n",
       "      <td>0.666</td>\n",
       "      <td>0.260</td>\n",
       "      <td>0.077</td>\n",
       "      <td>0.028</td>\n",
       "    </tr>\n",
       "    <tr>\n",
       "      <th>11</th>\n",
       "      <td>11</td>\n",
       "      <td>Australia</td>\n",
       "      <td>2019</td>\n",
       "      <td>7.228</td>\n",
       "      <td>1.372</td>\n",
       "      <td>1.548</td>\n",
       "      <td>1.036</td>\n",
       "      <td>0.557</td>\n",
       "      <td>0.332</td>\n",
       "      <td>0.290</td>\n",
       "    </tr>\n",
       "    <tr>\n",
       "      <th>12</th>\n",
       "      <td>10</td>\n",
       "      <td>Australia</td>\n",
       "      <td>2018</td>\n",
       "      <td>7.272</td>\n",
       "      <td>1.340</td>\n",
       "      <td>1.573</td>\n",
       "      <td>0.910</td>\n",
       "      <td>0.647</td>\n",
       "      <td>0.361</td>\n",
       "      <td>0.302</td>\n",
       "    </tr>\n",
       "    <tr>\n",
       "      <th>13</th>\n",
       "      <td>10</td>\n",
       "      <td>Austria</td>\n",
       "      <td>2019</td>\n",
       "      <td>7.246</td>\n",
       "      <td>1.376</td>\n",
       "      <td>1.475</td>\n",
       "      <td>1.016</td>\n",
       "      <td>0.532</td>\n",
       "      <td>0.244</td>\n",
       "      <td>0.226</td>\n",
       "    </tr>\n",
       "    <tr>\n",
       "      <th>14</th>\n",
       "      <td>12</td>\n",
       "      <td>Austria</td>\n",
       "      <td>2018</td>\n",
       "      <td>7.139</td>\n",
       "      <td>1.341</td>\n",
       "      <td>1.504</td>\n",
       "      <td>0.891</td>\n",
       "      <td>0.617</td>\n",
       "      <td>0.242</td>\n",
       "      <td>0.224</td>\n",
       "    </tr>\n",
       "    <tr>\n",
       "      <th>15</th>\n",
       "      <td>90</td>\n",
       "      <td>Azerbaijan</td>\n",
       "      <td>2019</td>\n",
       "      <td>5.208</td>\n",
       "      <td>1.043</td>\n",
       "      <td>1.147</td>\n",
       "      <td>0.769</td>\n",
       "      <td>0.351</td>\n",
       "      <td>0.035</td>\n",
       "      <td>0.182</td>\n",
       "    </tr>\n",
       "    <tr>\n",
       "      <th>16</th>\n",
       "      <td>87</td>\n",
       "      <td>Azerbaijan</td>\n",
       "      <td>2018</td>\n",
       "      <td>5.201</td>\n",
       "      <td>1.024</td>\n",
       "      <td>1.161</td>\n",
       "      <td>0.603</td>\n",
       "      <td>0.430</td>\n",
       "      <td>0.031</td>\n",
       "      <td>0.176</td>\n",
       "    </tr>\n",
       "    <tr>\n",
       "      <th>17</th>\n",
       "      <td>37</td>\n",
       "      <td>Bahrain</td>\n",
       "      <td>2019</td>\n",
       "      <td>6.199</td>\n",
       "      <td>1.362</td>\n",
       "      <td>1.368</td>\n",
       "      <td>0.871</td>\n",
       "      <td>0.536</td>\n",
       "      <td>0.255</td>\n",
       "      <td>0.110</td>\n",
       "    </tr>\n",
       "    <tr>\n",
       "      <th>18</th>\n",
       "      <td>43</td>\n",
       "      <td>Bahrain</td>\n",
       "      <td>2018</td>\n",
       "      <td>6.105</td>\n",
       "      <td>1.338</td>\n",
       "      <td>1.366</td>\n",
       "      <td>0.698</td>\n",
       "      <td>0.594</td>\n",
       "      <td>0.243</td>\n",
       "      <td>0.123</td>\n",
       "    </tr>\n",
       "    <tr>\n",
       "      <th>19</th>\n",
       "      <td>125</td>\n",
       "      <td>Bangladesh</td>\n",
       "      <td>2019</td>\n",
       "      <td>4.456</td>\n",
       "      <td>0.562</td>\n",
       "      <td>0.928</td>\n",
       "      <td>0.723</td>\n",
       "      <td>0.527</td>\n",
       "      <td>0.166</td>\n",
       "      <td>0.143</td>\n",
       "    </tr>\n",
       "    <tr>\n",
       "      <th>20</th>\n",
       "      <td>115</td>\n",
       "      <td>Bangladesh</td>\n",
       "      <td>2018</td>\n",
       "      <td>4.500</td>\n",
       "      <td>0.532</td>\n",
       "      <td>0.850</td>\n",
       "      <td>0.579</td>\n",
       "      <td>0.580</td>\n",
       "      <td>0.153</td>\n",
       "      <td>0.144</td>\n",
       "    </tr>\n",
       "    <tr>\n",
       "      <th>21</th>\n",
       "      <td>81</td>\n",
       "      <td>Belarus</td>\n",
       "      <td>2019</td>\n",
       "      <td>5.323</td>\n",
       "      <td>1.067</td>\n",
       "      <td>1.465</td>\n",
       "      <td>0.789</td>\n",
       "      <td>0.235</td>\n",
       "      <td>0.094</td>\n",
       "      <td>0.142</td>\n",
       "    </tr>\n",
       "    <tr>\n",
       "      <th>22</th>\n",
       "      <td>73</td>\n",
       "      <td>Belarus</td>\n",
       "      <td>2018</td>\n",
       "      <td>5.483</td>\n",
       "      <td>1.039</td>\n",
       "      <td>1.498</td>\n",
       "      <td>0.700</td>\n",
       "      <td>0.307</td>\n",
       "      <td>0.101</td>\n",
       "      <td>0.154</td>\n",
       "    </tr>\n",
       "    <tr>\n",
       "      <th>23</th>\n",
       "      <td>18</td>\n",
       "      <td>Belgium</td>\n",
       "      <td>2019</td>\n",
       "      <td>6.923</td>\n",
       "      <td>1.356</td>\n",
       "      <td>1.504</td>\n",
       "      <td>0.986</td>\n",
       "      <td>0.473</td>\n",
       "      <td>0.160</td>\n",
       "      <td>0.210</td>\n",
       "    </tr>\n",
       "    <tr>\n",
       "      <th>24</th>\n",
       "      <td>16</td>\n",
       "      <td>Belgium</td>\n",
       "      <td>2018</td>\n",
       "      <td>6.927</td>\n",
       "      <td>1.324</td>\n",
       "      <td>1.483</td>\n",
       "      <td>0.894</td>\n",
       "      <td>0.583</td>\n",
       "      <td>0.188</td>\n",
       "      <td>0.240</td>\n",
       "    </tr>\n",
       "  </tbody>\n",
       "</table>\n",
       "</div>"
      ],
      "text/plain": [
       "    Overall rank Country or region  Year  Score  GDP per capita  \\\n",
       "0            154       Afghanistan  2019  3.203           0.350   \n",
       "1            145       Afghanistan  2018  3.632           0.332   \n",
       "2            107           Albania  2019  4.719           0.947   \n",
       "3            112           Albania  2018  4.586           0.916   \n",
       "4             88           Algeria  2019  5.211           1.002   \n",
       "5             84           Algeria  2018  5.295           0.979   \n",
       "6            142            Angola  2018  3.795           0.730   \n",
       "7             47         Argentina  2019  6.086           1.092   \n",
       "8             29         Argentina  2018  6.388           1.073   \n",
       "9            116           Armenia  2019  4.559           0.850   \n",
       "10           129           Armenia  2018  4.321           0.816   \n",
       "11            11         Australia  2019  7.228           1.372   \n",
       "12            10         Australia  2018  7.272           1.340   \n",
       "13            10           Austria  2019  7.246           1.376   \n",
       "14            12           Austria  2018  7.139           1.341   \n",
       "15            90        Azerbaijan  2019  5.208           1.043   \n",
       "16            87        Azerbaijan  2018  5.201           1.024   \n",
       "17            37           Bahrain  2019  6.199           1.362   \n",
       "18            43           Bahrain  2018  6.105           1.338   \n",
       "19           125        Bangladesh  2019  4.456           0.562   \n",
       "20           115        Bangladesh  2018  4.500           0.532   \n",
       "21            81           Belarus  2019  5.323           1.067   \n",
       "22            73           Belarus  2018  5.483           1.039   \n",
       "23            18           Belgium  2019  6.923           1.356   \n",
       "24            16           Belgium  2018  6.927           1.324   \n",
       "\n",
       "    Social support  Healthy life expectancy  Freedom to make life choices  \\\n",
       "0            0.517                    0.361                         0.000   \n",
       "1            0.537                    0.255                         0.085   \n",
       "2            0.848                    0.874                         0.383   \n",
       "3            0.817                    0.790                         0.419   \n",
       "4            1.160                    0.785                         0.086   \n",
       "5            1.154                    0.687                         0.077   \n",
       "6            1.125                    0.269                         0.000   \n",
       "7            1.432                    0.881                         0.471   \n",
       "8            1.468                    0.744                         0.570   \n",
       "9            1.055                    0.815                         0.283   \n",
       "10           0.990                    0.666                         0.260   \n",
       "11           1.548                    1.036                         0.557   \n",
       "12           1.573                    0.910                         0.647   \n",
       "13           1.475                    1.016                         0.532   \n",
       "14           1.504                    0.891                         0.617   \n",
       "15           1.147                    0.769                         0.351   \n",
       "16           1.161                    0.603                         0.430   \n",
       "17           1.368                    0.871                         0.536   \n",
       "18           1.366                    0.698                         0.594   \n",
       "19           0.928                    0.723                         0.527   \n",
       "20           0.850                    0.579                         0.580   \n",
       "21           1.465                    0.789                         0.235   \n",
       "22           1.498                    0.700                         0.307   \n",
       "23           1.504                    0.986                         0.473   \n",
       "24           1.483                    0.894                         0.583   \n",
       "\n",
       "    Generosity  Perceptions of corruption  \n",
       "0        0.158                      0.025  \n",
       "1        0.191                      0.036  \n",
       "2        0.178                      0.027  \n",
       "3        0.149                      0.032  \n",
       "4        0.073                      0.114  \n",
       "5        0.055                      0.135  \n",
       "6        0.079                      0.061  \n",
       "7        0.066                      0.050  \n",
       "8        0.062                      0.054  \n",
       "9        0.095                      0.064  \n",
       "10       0.077                      0.028  \n",
       "11       0.332                      0.290  \n",
       "12       0.361                      0.302  \n",
       "13       0.244                      0.226  \n",
       "14       0.242                      0.224  \n",
       "15       0.035                      0.182  \n",
       "16       0.031                      0.176  \n",
       "17       0.255                      0.110  \n",
       "18       0.243                      0.123  \n",
       "19       0.166                      0.143  \n",
       "20       0.153                      0.144  \n",
       "21       0.094                      0.142  \n",
       "22       0.101                      0.154  \n",
       "23       0.160                      0.210  \n",
       "24       0.188                      0.240  "
      ]
     },
     "execution_count": 37,
     "metadata": {},
     "output_type": "execute_result"
    }
   ],
   "source": [
    "import pandas as pd\n",
    "import numpy as np\n",
    "from sklearn.linear_model import LinearRegression\n",
    "import matplotlib.pyplot as plt\n",
    "from sklearn import datasets\n",
    "data = pd.read_csv('happiness_2018-2019.csv', header=(0))\n",
    "print(\"Número de linhas e colunas:\",data.shape)\n",
    "data.head(25)"
   ]
  },
  {
   "cell_type": "code",
   "execution_count": 38,
   "id": "5f6857c2",
   "metadata": {
    "scrolled": false
   },
   "outputs": [
    {
     "data": {
      "text/html": [
       "<div>\n",
       "<style scoped>\n",
       "    .dataframe tbody tr th:only-of-type {\n",
       "        vertical-align: middle;\n",
       "    }\n",
       "\n",
       "    .dataframe tbody tr th {\n",
       "        vertical-align: top;\n",
       "    }\n",
       "\n",
       "    .dataframe thead th {\n",
       "        text-align: right;\n",
       "    }\n",
       "</style>\n",
       "<table border=\"1\" class=\"dataframe\">\n",
       "  <thead>\n",
       "    <tr style=\"text-align: right;\">\n",
       "      <th></th>\n",
       "      <th>Overall rank</th>\n",
       "      <th>Country or region</th>\n",
       "      <th>Year</th>\n",
       "      <th>Score</th>\n",
       "      <th>GDP per capita</th>\n",
       "      <th>Social support</th>\n",
       "      <th>Healthy life expectancy</th>\n",
       "      <th>Freedom to make life choices</th>\n",
       "      <th>Generosity</th>\n",
       "      <th>Perceptions of corruption</th>\n",
       "    </tr>\n",
       "  </thead>\n",
       "  <tbody>\n",
       "    <tr>\n",
       "      <th>0</th>\n",
       "      <td>154</td>\n",
       "      <td>Afghanistan</td>\n",
       "      <td>2019</td>\n",
       "      <td>3.203</td>\n",
       "      <td>0.350</td>\n",
       "      <td>0.517</td>\n",
       "      <td>0.361</td>\n",
       "      <td>0.000</td>\n",
       "      <td>0.158</td>\n",
       "      <td>0.025</td>\n",
       "    </tr>\n",
       "    <tr>\n",
       "      <th>1</th>\n",
       "      <td>145</td>\n",
       "      <td>Afghanistan</td>\n",
       "      <td>2018</td>\n",
       "      <td>3.632</td>\n",
       "      <td>0.332</td>\n",
       "      <td>0.537</td>\n",
       "      <td>0.255</td>\n",
       "      <td>0.085</td>\n",
       "      <td>0.191</td>\n",
       "      <td>0.036</td>\n",
       "    </tr>\n",
       "    <tr>\n",
       "      <th>2</th>\n",
       "      <td>107</td>\n",
       "      <td>Albania</td>\n",
       "      <td>2019</td>\n",
       "      <td>4.719</td>\n",
       "      <td>0.947</td>\n",
       "      <td>0.848</td>\n",
       "      <td>0.874</td>\n",
       "      <td>0.383</td>\n",
       "      <td>0.178</td>\n",
       "      <td>0.027</td>\n",
       "    </tr>\n",
       "    <tr>\n",
       "      <th>3</th>\n",
       "      <td>112</td>\n",
       "      <td>Albania</td>\n",
       "      <td>2018</td>\n",
       "      <td>4.586</td>\n",
       "      <td>0.916</td>\n",
       "      <td>0.817</td>\n",
       "      <td>0.790</td>\n",
       "      <td>0.419</td>\n",
       "      <td>0.149</td>\n",
       "      <td>0.032</td>\n",
       "    </tr>\n",
       "    <tr>\n",
       "      <th>4</th>\n",
       "      <td>88</td>\n",
       "      <td>Algeria</td>\n",
       "      <td>2019</td>\n",
       "      <td>5.211</td>\n",
       "      <td>1.002</td>\n",
       "      <td>1.160</td>\n",
       "      <td>0.785</td>\n",
       "      <td>0.086</td>\n",
       "      <td>0.073</td>\n",
       "      <td>0.114</td>\n",
       "    </tr>\n",
       "    <tr>\n",
       "      <th>5</th>\n",
       "      <td>84</td>\n",
       "      <td>Algeria</td>\n",
       "      <td>2018</td>\n",
       "      <td>5.295</td>\n",
       "      <td>0.979</td>\n",
       "      <td>1.154</td>\n",
       "      <td>0.687</td>\n",
       "      <td>0.077</td>\n",
       "      <td>0.055</td>\n",
       "      <td>0.135</td>\n",
       "    </tr>\n",
       "    <tr>\n",
       "      <th>6</th>\n",
       "      <td>142</td>\n",
       "      <td>Angola</td>\n",
       "      <td>2018</td>\n",
       "      <td>3.795</td>\n",
       "      <td>0.730</td>\n",
       "      <td>1.125</td>\n",
       "      <td>0.269</td>\n",
       "      <td>0.000</td>\n",
       "      <td>0.079</td>\n",
       "      <td>0.061</td>\n",
       "    </tr>\n",
       "    <tr>\n",
       "      <th>7</th>\n",
       "      <td>47</td>\n",
       "      <td>Argentina</td>\n",
       "      <td>2019</td>\n",
       "      <td>6.086</td>\n",
       "      <td>1.092</td>\n",
       "      <td>1.432</td>\n",
       "      <td>0.881</td>\n",
       "      <td>0.471</td>\n",
       "      <td>0.066</td>\n",
       "      <td>0.050</td>\n",
       "    </tr>\n",
       "    <tr>\n",
       "      <th>8</th>\n",
       "      <td>29</td>\n",
       "      <td>Argentina</td>\n",
       "      <td>2018</td>\n",
       "      <td>6.388</td>\n",
       "      <td>1.073</td>\n",
       "      <td>1.468</td>\n",
       "      <td>0.744</td>\n",
       "      <td>0.570</td>\n",
       "      <td>0.062</td>\n",
       "      <td>0.054</td>\n",
       "    </tr>\n",
       "    <tr>\n",
       "      <th>9</th>\n",
       "      <td>116</td>\n",
       "      <td>Armenia</td>\n",
       "      <td>2019</td>\n",
       "      <td>4.559</td>\n",
       "      <td>0.850</td>\n",
       "      <td>1.055</td>\n",
       "      <td>0.815</td>\n",
       "      <td>0.283</td>\n",
       "      <td>0.095</td>\n",
       "      <td>0.064</td>\n",
       "    </tr>\n",
       "    <tr>\n",
       "      <th>10</th>\n",
       "      <td>129</td>\n",
       "      <td>Armenia</td>\n",
       "      <td>2018</td>\n",
       "      <td>4.321</td>\n",
       "      <td>0.816</td>\n",
       "      <td>0.990</td>\n",
       "      <td>0.666</td>\n",
       "      <td>0.260</td>\n",
       "      <td>0.077</td>\n",
       "      <td>0.028</td>\n",
       "    </tr>\n",
       "    <tr>\n",
       "      <th>11</th>\n",
       "      <td>11</td>\n",
       "      <td>Australia</td>\n",
       "      <td>2019</td>\n",
       "      <td>7.228</td>\n",
       "      <td>1.372</td>\n",
       "      <td>1.548</td>\n",
       "      <td>1.036</td>\n",
       "      <td>0.557</td>\n",
       "      <td>0.332</td>\n",
       "      <td>0.290</td>\n",
       "    </tr>\n",
       "    <tr>\n",
       "      <th>12</th>\n",
       "      <td>10</td>\n",
       "      <td>Australia</td>\n",
       "      <td>2018</td>\n",
       "      <td>7.272</td>\n",
       "      <td>1.340</td>\n",
       "      <td>1.573</td>\n",
       "      <td>0.910</td>\n",
       "      <td>0.647</td>\n",
       "      <td>0.361</td>\n",
       "      <td>0.302</td>\n",
       "    </tr>\n",
       "    <tr>\n",
       "      <th>13</th>\n",
       "      <td>10</td>\n",
       "      <td>Austria</td>\n",
       "      <td>2019</td>\n",
       "      <td>7.246</td>\n",
       "      <td>1.376</td>\n",
       "      <td>1.475</td>\n",
       "      <td>1.016</td>\n",
       "      <td>0.532</td>\n",
       "      <td>0.244</td>\n",
       "      <td>0.226</td>\n",
       "    </tr>\n",
       "    <tr>\n",
       "      <th>14</th>\n",
       "      <td>12</td>\n",
       "      <td>Austria</td>\n",
       "      <td>2018</td>\n",
       "      <td>7.139</td>\n",
       "      <td>1.341</td>\n",
       "      <td>1.504</td>\n",
       "      <td>0.891</td>\n",
       "      <td>0.617</td>\n",
       "      <td>0.242</td>\n",
       "      <td>0.224</td>\n",
       "    </tr>\n",
       "    <tr>\n",
       "      <th>15</th>\n",
       "      <td>90</td>\n",
       "      <td>Azerbaijan</td>\n",
       "      <td>2019</td>\n",
       "      <td>5.208</td>\n",
       "      <td>1.043</td>\n",
       "      <td>1.147</td>\n",
       "      <td>0.769</td>\n",
       "      <td>0.351</td>\n",
       "      <td>0.035</td>\n",
       "      <td>0.182</td>\n",
       "    </tr>\n",
       "    <tr>\n",
       "      <th>16</th>\n",
       "      <td>87</td>\n",
       "      <td>Azerbaijan</td>\n",
       "      <td>2018</td>\n",
       "      <td>5.201</td>\n",
       "      <td>1.024</td>\n",
       "      <td>1.161</td>\n",
       "      <td>0.603</td>\n",
       "      <td>0.430</td>\n",
       "      <td>0.031</td>\n",
       "      <td>0.176</td>\n",
       "    </tr>\n",
       "    <tr>\n",
       "      <th>17</th>\n",
       "      <td>37</td>\n",
       "      <td>Bahrain</td>\n",
       "      <td>2019</td>\n",
       "      <td>6.199</td>\n",
       "      <td>1.362</td>\n",
       "      <td>1.368</td>\n",
       "      <td>0.871</td>\n",
       "      <td>0.536</td>\n",
       "      <td>0.255</td>\n",
       "      <td>0.110</td>\n",
       "    </tr>\n",
       "    <tr>\n",
       "      <th>18</th>\n",
       "      <td>43</td>\n",
       "      <td>Bahrain</td>\n",
       "      <td>2018</td>\n",
       "      <td>6.105</td>\n",
       "      <td>1.338</td>\n",
       "      <td>1.366</td>\n",
       "      <td>0.698</td>\n",
       "      <td>0.594</td>\n",
       "      <td>0.243</td>\n",
       "      <td>0.123</td>\n",
       "    </tr>\n",
       "    <tr>\n",
       "      <th>19</th>\n",
       "      <td>125</td>\n",
       "      <td>Bangladesh</td>\n",
       "      <td>2019</td>\n",
       "      <td>4.456</td>\n",
       "      <td>0.562</td>\n",
       "      <td>0.928</td>\n",
       "      <td>0.723</td>\n",
       "      <td>0.527</td>\n",
       "      <td>0.166</td>\n",
       "      <td>0.143</td>\n",
       "    </tr>\n",
       "    <tr>\n",
       "      <th>20</th>\n",
       "      <td>115</td>\n",
       "      <td>Bangladesh</td>\n",
       "      <td>2018</td>\n",
       "      <td>4.500</td>\n",
       "      <td>0.532</td>\n",
       "      <td>0.850</td>\n",
       "      <td>0.579</td>\n",
       "      <td>0.580</td>\n",
       "      <td>0.153</td>\n",
       "      <td>0.144</td>\n",
       "    </tr>\n",
       "    <tr>\n",
       "      <th>21</th>\n",
       "      <td>81</td>\n",
       "      <td>Belarus</td>\n",
       "      <td>2019</td>\n",
       "      <td>5.323</td>\n",
       "      <td>1.067</td>\n",
       "      <td>1.465</td>\n",
       "      <td>0.789</td>\n",
       "      <td>0.235</td>\n",
       "      <td>0.094</td>\n",
       "      <td>0.142</td>\n",
       "    </tr>\n",
       "    <tr>\n",
       "      <th>22</th>\n",
       "      <td>73</td>\n",
       "      <td>Belarus</td>\n",
       "      <td>2018</td>\n",
       "      <td>5.483</td>\n",
       "      <td>1.039</td>\n",
       "      <td>1.498</td>\n",
       "      <td>0.700</td>\n",
       "      <td>0.307</td>\n",
       "      <td>0.101</td>\n",
       "      <td>0.154</td>\n",
       "    </tr>\n",
       "    <tr>\n",
       "      <th>23</th>\n",
       "      <td>18</td>\n",
       "      <td>Belgium</td>\n",
       "      <td>2019</td>\n",
       "      <td>6.923</td>\n",
       "      <td>1.356</td>\n",
       "      <td>1.504</td>\n",
       "      <td>0.986</td>\n",
       "      <td>0.473</td>\n",
       "      <td>0.160</td>\n",
       "      <td>0.210</td>\n",
       "    </tr>\n",
       "    <tr>\n",
       "      <th>24</th>\n",
       "      <td>16</td>\n",
       "      <td>Belgium</td>\n",
       "      <td>2018</td>\n",
       "      <td>6.927</td>\n",
       "      <td>1.324</td>\n",
       "      <td>1.483</td>\n",
       "      <td>0.894</td>\n",
       "      <td>0.583</td>\n",
       "      <td>0.188</td>\n",
       "      <td>0.240</td>\n",
       "    </tr>\n",
       "  </tbody>\n",
       "</table>\n",
       "</div>"
      ],
      "text/plain": [
       "    Overall rank Country or region  Year  Score  GDP per capita  \\\n",
       "0            154       Afghanistan  2019  3.203           0.350   \n",
       "1            145       Afghanistan  2018  3.632           0.332   \n",
       "2            107           Albania  2019  4.719           0.947   \n",
       "3            112           Albania  2018  4.586           0.916   \n",
       "4             88           Algeria  2019  5.211           1.002   \n",
       "5             84           Algeria  2018  5.295           0.979   \n",
       "6            142            Angola  2018  3.795           0.730   \n",
       "7             47         Argentina  2019  6.086           1.092   \n",
       "8             29         Argentina  2018  6.388           1.073   \n",
       "9            116           Armenia  2019  4.559           0.850   \n",
       "10           129           Armenia  2018  4.321           0.816   \n",
       "11            11         Australia  2019  7.228           1.372   \n",
       "12            10         Australia  2018  7.272           1.340   \n",
       "13            10           Austria  2019  7.246           1.376   \n",
       "14            12           Austria  2018  7.139           1.341   \n",
       "15            90        Azerbaijan  2019  5.208           1.043   \n",
       "16            87        Azerbaijan  2018  5.201           1.024   \n",
       "17            37           Bahrain  2019  6.199           1.362   \n",
       "18            43           Bahrain  2018  6.105           1.338   \n",
       "19           125        Bangladesh  2019  4.456           0.562   \n",
       "20           115        Bangladesh  2018  4.500           0.532   \n",
       "21            81           Belarus  2019  5.323           1.067   \n",
       "22            73           Belarus  2018  5.483           1.039   \n",
       "23            18           Belgium  2019  6.923           1.356   \n",
       "24            16           Belgium  2018  6.927           1.324   \n",
       "\n",
       "    Social support  Healthy life expectancy  Freedom to make life choices  \\\n",
       "0            0.517                    0.361                         0.000   \n",
       "1            0.537                    0.255                         0.085   \n",
       "2            0.848                    0.874                         0.383   \n",
       "3            0.817                    0.790                         0.419   \n",
       "4            1.160                    0.785                         0.086   \n",
       "5            1.154                    0.687                         0.077   \n",
       "6            1.125                    0.269                         0.000   \n",
       "7            1.432                    0.881                         0.471   \n",
       "8            1.468                    0.744                         0.570   \n",
       "9            1.055                    0.815                         0.283   \n",
       "10           0.990                    0.666                         0.260   \n",
       "11           1.548                    1.036                         0.557   \n",
       "12           1.573                    0.910                         0.647   \n",
       "13           1.475                    1.016                         0.532   \n",
       "14           1.504                    0.891                         0.617   \n",
       "15           1.147                    0.769                         0.351   \n",
       "16           1.161                    0.603                         0.430   \n",
       "17           1.368                    0.871                         0.536   \n",
       "18           1.366                    0.698                         0.594   \n",
       "19           0.928                    0.723                         0.527   \n",
       "20           0.850                    0.579                         0.580   \n",
       "21           1.465                    0.789                         0.235   \n",
       "22           1.498                    0.700                         0.307   \n",
       "23           1.504                    0.986                         0.473   \n",
       "24           1.483                    0.894                         0.583   \n",
       "\n",
       "    Generosity  Perceptions of corruption  \n",
       "0        0.158                      0.025  \n",
       "1        0.191                      0.036  \n",
       "2        0.178                      0.027  \n",
       "3        0.149                      0.032  \n",
       "4        0.073                      0.114  \n",
       "5        0.055                      0.135  \n",
       "6        0.079                      0.061  \n",
       "7        0.066                      0.050  \n",
       "8        0.062                      0.054  \n",
       "9        0.095                      0.064  \n",
       "10       0.077                      0.028  \n",
       "11       0.332                      0.290  \n",
       "12       0.361                      0.302  \n",
       "13       0.244                      0.226  \n",
       "14       0.242                      0.224  \n",
       "15       0.035                      0.182  \n",
       "16       0.031                      0.176  \n",
       "17       0.255                      0.110  \n",
       "18       0.243                      0.123  \n",
       "19       0.166                      0.143  \n",
       "20       0.153                      0.144  \n",
       "21       0.094                      0.142  \n",
       "22       0.101                      0.154  \n",
       "23       0.160                      0.210  \n",
       "24       0.188                      0.240  "
      ]
     },
     "execution_count": 38,
     "metadata": {},
     "output_type": "execute_result"
    }
   ],
   "source": [
    "# excluir linhas com NaN\n",
    "data = data.dropna()\n",
    "data.head(25)"
   ]
  },
  {
   "cell_type": "code",
   "execution_count": null,
   "id": "eea56b8e",
   "metadata": {},
   "outputs": [],
   "source": [
    "# Regressão 1:"
   ]
  },
  {
   "cell_type": "code",
   "execution_count": 39,
   "id": "2a4f4bc6",
   "metadata": {},
   "outputs": [
    {
     "data": {
      "image/png": "[encoded data removed]",
      "text/plain": [
       "<Figure size 432x288 with 1 Axes>"
      ]
     },
     "metadata": {
      "needs_background": "light"
     },
     "output_type": "display_data"
    }
   ],
   "source": [
    "import numpy as np\n",
    "import matplotlib.pyplot as plt\n",
    "y = data.iloc[:,3]\n",
    "x = data.iloc[:,4]\n",
    "plt.plot(x, y, 'bo')\n",
    "plt.ylabel(\"x\", fontsize = 15)\n",
    "plt.xlabel(\"y\", fontsize = 15)\n",
    "plt.show(True) "
   ]
  },
  {
   "cell_type": "code",
   "execution_count": 40,
   "id": "6c44e9c9",
   "metadata": {},
   "outputs": [
    {
     "name": "stdout",
     "output_type": "stream",
     "text": [
      "3.366653335169602\n",
      "[2.25409931]\n"
     ]
    },
    {
     "data": {
      "text/plain": [
       "[<matplotlib.lines.Line2D at 0x20f1d04c370>]"
      ]
     },
     "execution_count": 40,
     "metadata": {},
     "output_type": "execute_result"
    },
    {
     "data": {
      "image/png": "[encoded data removed]",
      "text/plain": [
       "<Figure size 432x288 with 1 Axes>"
      ]
     },
     "metadata": {
      "needs_background": "light"
     },
     "output_type": "display_data"
    }
   ],
   "source": [
    "y = data.iloc[:,3]\n",
    "x = data.iloc[:,4]\n",
    "X = np.array(x).reshape(-1, 1)\n",
    "Y = np.array(y)\n",
    "modelo = LinearRegression().fit(X, Y)\n",
    "print(modelo.intercept_)\n",
    "print (modelo.coef_)\n",
    "plt.scatter(X, Y)\n",
    "plt.plot(X, modelo.predict(X), color = 'red')"
   ]
  },
  {
   "cell_type": "code",
   "execution_count": 41,
   "id": "b6f7ab08",
   "metadata": {},
   "outputs": [
    {
     "name": "stdout",
     "output_type": "stream",
     "text": [
      "[[1.         0.79797746]\n",
      " [0.79797746 1.        ]]\n"
     ]
    }
   ],
   "source": [
    "import numpy as np\n",
    "y = data.iloc[:,3]\n",
    "x = data.iloc[:,4]\n",
    "correlacao = np.corrcoef(x, y)\n",
    "print(correlacao)"
   ]
  },
  {
   "cell_type": "code",
   "execution_count": 42,
   "id": "43d54ce6",
   "metadata": {
    "scrolled": true
   },
   "outputs": [
    {
     "name": "stdout",
     "output_type": "stream",
     "text": [
      "0.6367680251195654\n"
     ]
    }
   ],
   "source": [
    "R2=correlacao[0,1]**2\n",
    "print(R2)"
   ]
  },
  {
   "cell_type": "code",
   "execution_count": null,
   "id": "43df3200",
   "metadata": {},
   "outputs": [],
   "source": [
    "# Regressão 2:"
   ]
  },
  {
   "cell_type": "code",
   "execution_count": 43,
   "id": "2d686f8d",
   "metadata": {},
   "outputs": [
    {
     "data": {
      "image/png": "[encoded data removed]",
      "text/plain": [
       "<Figure size 432x288 with 1 Axes>"
      ]
     },
     "metadata": {
      "needs_background": "light"
     },
     "output_type": "display_data"
    }
   ],
   "source": [
    "import numpy as np\n",
    "import matplotlib.pyplot as plt\n",
    "y = data.iloc[:,3]\n",
    "x = data.iloc[:,5]\n",
    "plt.plot(x, y, 'bo')\n",
    "plt.ylabel(\"x\", fontsize = 15)\n",
    "plt.xlabel(\"y\", fontsize = 15)\n",
    "plt.show(True) "
   ]
  },
  {
   "cell_type": "code",
   "execution_count": 44,
   "id": "3321601d",
   "metadata": {},
   "outputs": [
    {
     "name": "stdout",
     "output_type": "stream",
     "text": [
      "1.970569582287824\n",
      "[2.82482609]\n"
     ]
    },
    {
     "data": {
      "text/plain": [
       "[<matplotlib.lines.Line2D at 0x20f1d0fb760>]"
      ]
     },
     "execution_count": 44,
     "metadata": {},
     "output_type": "execute_result"
    },
    {
     "data": {
      "image/png": "[encoded data removed]",
      "text/plain": [
       "<Figure size 432x288 with 1 Axes>"
      ]
     },
     "metadata": {
      "needs_background": "light"
     },
     "output_type": "display_data"
    }
   ],
   "source": [
    "y = data.iloc[:,3]\n",
    "x = data.iloc[:,5]\n",
    "X = np.array(x).reshape(-1, 1)\n",
    "Y = np.array(y)\n",
    "modelo = LinearRegression().fit(X, Y)\n",
    "print(modelo.intercept_)\n",
    "print (modelo.coef_)\n",
    "plt.scatter(X, Y)\n",
    "plt.plot(X, modelo.predict(X), color = 'red')"
   ]
  },
  {
   "cell_type": "code",
   "execution_count": 45,
   "id": "e21c2ecc",
   "metadata": {},
   "outputs": [
    {
     "name": "stdout",
     "output_type": "stream",
     "text": [
      "[[1.        0.7610805]\n",
      " [0.7610805 1.       ]]\n"
     ]
    }
   ],
   "source": [
    "import numpy as np\n",
    "y = data.iloc[:,3]\n",
    "x = data.iloc[:,5]\n",
    "correlacao = np.corrcoef(x, y)\n",
    "print(correlacao)"
   ]
  },
  {
   "cell_type": "code",
   "execution_count": 46,
   "id": "d35debb2",
   "metadata": {},
   "outputs": [
    {
     "name": "stdout",
     "output_type": "stream",
     "text": [
      "0.5792435268916294\n"
     ]
    }
   ],
   "source": [
    "R2=correlacao[0,1]**2\n",
    "print(R2)"
   ]
  },
  {
   "cell_type": "code",
   "execution_count": null,
   "id": "054303f8",
   "metadata": {},
   "outputs": [],
   "source": [
    "# Regressão 3:"
   ]
  },
  {
   "cell_type": "code",
   "execution_count": 47,
   "id": "88ad1398",
   "metadata": {},
   "outputs": [
    {
     "data": {
      "image/png": "[encoded data removed]",
      "text/plain": [
       "<Figure size 432x288 with 1 Axes>"
      ]
     },
     "metadata": {
      "needs_background": "light"
     },
     "output_type": "display_data"
    }
   ],
   "source": [
    "import numpy as np\n",
    "import matplotlib.pyplot as plt\n",
    "y = data.iloc[:,3]\n",
    "x = data.iloc[:,6]\n",
    "plt.plot(x, y, 'bo')\n",
    "plt.ylabel(\"x\", fontsize = 15)\n",
    "plt.xlabel(\"y\", fontsize = 15)\n",
    "plt.show(True) "
   ]
  },
  {
   "cell_type": "code",
   "execution_count": 48,
   "id": "8d0fca44",
   "metadata": {},
   "outputs": [
    {
     "name": "stdout",
     "output_type": "stream",
     "text": [
      "3.186907659239953\n",
      "[3.33376054]\n"
     ]
    },
    {
     "data": {
      "text/plain": [
       "[<matplotlib.lines.Line2D at 0x20f1d1b6520>]"
      ]
     },
     "execution_count": 48,
     "metadata": {},
     "output_type": "execute_result"
    },
    {
     "data": {
      "image/png": "[encoded data removed]",
      "text/plain": [
       "<Figure size 432x288 with 1 Axes>"
      ]
     },
     "metadata": {
      "needs_background": "light"
     },
     "output_type": "display_data"
    }
   ],
   "source": [
    "y = data.iloc[:,3]\n",
    "x = data.iloc[:,6]\n",
    "X = np.array(x).reshape(-1, 1)\n",
    "Y = np.array(y)\n",
    "modelo = LinearRegression().fit(X, Y)\n",
    "print(modelo.intercept_)\n",
    "print (modelo.coef_)\n",
    "plt.scatter(X, Y)\n",
    "plt.plot(X, modelo.predict(X), color = 'red')"
   ]
  },
  {
   "cell_type": "code",
   "execution_count": 49,
   "id": "a6787800",
   "metadata": {},
   "outputs": [
    {
     "name": "stdout",
     "output_type": "stream",
     "text": [
      "[[1.         0.75587494]\n",
      " [0.75587494 1.        ]]\n"
     ]
    }
   ],
   "source": [
    "import numpy as np\n",
    "y = data.iloc[:,3]\n",
    "x = data.iloc[:,6]\n",
    "correlacao = np.corrcoef(x, y)\n",
    "print(correlacao)"
   ]
  },
  {
   "cell_type": "code",
   "execution_count": 50,
   "id": "569f8a1e",
   "metadata": {},
   "outputs": [
    {
     "name": "stdout",
     "output_type": "stream",
     "text": [
      "0.571346925600725\n"
     ]
    }
   ],
   "source": [
    "R2=correlacao[0,1]**2\n",
    "print(R2)"
   ]
  },
  {
   "cell_type": "code",
   "execution_count": 51,
   "id": "3a7030a5",
   "metadata": {},
   "outputs": [],
   "source": [
    "# Regressão 4:"
   ]
  },
  {
   "cell_type": "code",
   "execution_count": 52,
   "id": "56cce054",
   "metadata": {},
   "outputs": [
    {
     "data": {
      "image/png": "[encoded data removed]",
      "text/plain": [
       "<Figure size 432x288 with 1 Axes>"
      ]
     },
     "metadata": {
      "needs_background": "light"
     },
     "output_type": "display_data"
    }
   ],
   "source": [
    "import numpy as np\n",
    "import matplotlib.pyplot as plt\n",
    "y = data.iloc[:,3]\n",
    "x = data.iloc[:,7]\n",
    "plt.plot(x, y, 'bo')\n",
    "plt.ylabel(\"x\", fontsize = 15)\n",
    "plt.xlabel(\"y\", fontsize = 15)\n",
    "plt.show(True) "
   ]
  },
  {
   "cell_type": "code",
   "execution_count": 53,
   "id": "cfd59bd3",
   "metadata": {},
   "outputs": [
    {
     "name": "stdout",
     "output_type": "stream",
     "text": [
      "3.7579127161356443\n",
      "[3.85701381]\n"
     ]
    },
    {
     "data": {
      "text/plain": [
       "[<matplotlib.lines.Line2D at 0x20f1d2722b0>]"
      ]
     },
     "execution_count": 53,
     "metadata": {},
     "output_type": "execute_result"
    },
    {
     "data": {
      "image/png": "[encoded data removed]",
      "text/plain": [
       "<Figure size 432x288 with 1 Axes>"
      ]
     },
     "metadata": {
      "needs_background": "light"
     },
     "output_type": "display_data"
    }
   ],
   "source": [
    "y = data.iloc[:,3]\n",
    "x = data.iloc[:,7]\n",
    "X = np.array(x).reshape(-1, 1)\n",
    "Y = np.array(y)\n",
    "modelo = LinearRegression().fit(X, Y)\n",
    "print(modelo.intercept_)\n",
    "print (modelo.coef_)\n",
    "plt.scatter(X, Y)\n",
    "plt.plot(X, modelo.predict(X), color = 'red')"
   ]
  },
  {
   "cell_type": "code",
   "execution_count": 54,
   "id": "648eb8b0",
   "metadata": {},
   "outputs": [
    {
     "name": "stdout",
     "output_type": "stream",
     "text": [
      "[[1.         0.53989733]\n",
      " [0.53989733 1.        ]]\n"
     ]
    }
   ],
   "source": [
    "import numpy as np\n",
    "y = data.iloc[:,3]\n",
    "x = data.iloc[:,7]\n",
    "correlacao = np.corrcoef(x, y)\n",
    "print(correlacao)"
   ]
  },
  {
   "cell_type": "code",
   "execution_count": 55,
   "id": "6c040563",
   "metadata": {},
   "outputs": [
    {
     "name": "stdout",
     "output_type": "stream",
     "text": [
      "0.29148913115496206\n"
     ]
    }
   ],
   "source": [
    "R2=correlacao[0,1]**2\n",
    "print(R2)"
   ]
  },
  {
   "cell_type": "code",
   "execution_count": 56,
   "id": "3e347eb6",
   "metadata": {},
   "outputs": [],
   "source": [
    "# Regressão 5:"
   ]
  },
  {
   "cell_type": "code",
   "execution_count": 57,
   "id": "b865a11c",
   "metadata": {},
   "outputs": [
    {
     "data": {
      "image/png": "[encoded data removed]",
      "text/plain": [
       "<Figure size 432x288 with 1 Axes>"
      ]
     },
     "metadata": {
      "needs_background": "light"
     },
     "output_type": "display_data"
    }
   ],
   "source": [
    "import numpy as np\n",
    "import matplotlib.pyplot as plt\n",
    "y = data.iloc[:,3]\n",
    "x = data.iloc[:,8]\n",
    "plt.plot(x, y, 'bo')\n",
    "plt.ylabel(\"x\", fontsize = 15)\n",
    "plt.xlabel(\"y\", fontsize = 15)\n",
    "plt.show(True) "
   ]
  },
  {
   "cell_type": "code",
   "execution_count": 58,
   "id": "e8de1622",
   "metadata": {},
   "outputs": [
    {
     "name": "stdout",
     "output_type": "stream",
     "text": [
      "5.166732648792296\n",
      "[1.22876691]\n"
     ]
    },
    {
     "data": {
      "text/plain": [
       "[<matplotlib.lines.Line2D at 0x20f1d2c1310>]"
      ]
     },
     "execution_count": 58,
     "metadata": {},
     "output_type": "execute_result"
    },
    {
     "data": {
      "image/png": "[encoded data removed]",
      "text/plain": [
       "<Figure size 432x288 with 1 Axes>"
      ]
     },
     "metadata": {
      "needs_background": "light"
     },
     "output_type": "display_data"
    }
   ],
   "source": [
    "y = data.iloc[:,3]\n",
    "x = data.iloc[:,8]\n",
    "X = np.array(x).reshape(-1, 1)\n",
    "Y = np.array(y)\n",
    "modelo = LinearRegression().fit(X, Y)\n",
    "print(modelo.intercept_)\n",
    "print (modelo.coef_)\n",
    "plt.scatter(X, Y)\n",
    "plt.plot(X, modelo.predict(X), color = 'red')"
   ]
  },
  {
   "cell_type": "code",
   "execution_count": 59,
   "id": "c9a60b3d",
   "metadata": {},
   "outputs": [
    {
     "name": "stdout",
     "output_type": "stream",
     "text": [
      "[[1.         0.10664502]\n",
      " [0.10664502 1.        ]]\n"
     ]
    }
   ],
   "source": [
    "import numpy as np\n",
    "y = data.iloc[:,3]\n",
    "x = data.iloc[:,8]\n",
    "correlacao = np.corrcoef(x, y)\n",
    "print(correlacao)"
   ]
  },
  {
   "cell_type": "code",
   "execution_count": 60,
   "id": "8f7222db",
   "metadata": {},
   "outputs": [
    {
     "name": "stdout",
     "output_type": "stream",
     "text": [
      "0.011373160947473714\n"
     ]
    }
   ],
   "source": [
    "R2=correlacao[0,1]**2\n",
    "print(R2)"
   ]
  },
  {
   "cell_type": "code",
   "execution_count": 61,
   "id": "8f0a0dec",
   "metadata": {},
   "outputs": [],
   "source": [
    "# Regressão 6:"
   ]
  },
  {
   "cell_type": "code",
   "execution_count": 62,
   "id": "0ceaf2ad",
   "metadata": {},
   "outputs": [
    {
     "data": {
      "image/png": "[encoded data removed]",
      "text/plain": [
       "<Figure size 432x288 with 1 Axes>"
      ]
     },
     "metadata": {
      "needs_background": "light"
     },
     "output_type": "display_data"
    }
   ],
   "source": [
    "import numpy as np\n",
    "import matplotlib.pyplot as plt\n",
    "y = data.iloc[:,3]\n",
    "x = data.iloc[:,9]\n",
    "plt.plot(x, y, 'bo')\n",
    "plt.ylabel(\"x\", fontsize = 15)\n",
    "plt.xlabel(\"y\", fontsize = 15)\n",
    "plt.show(True) "
   ]
  },
  {
   "cell_type": "code",
   "execution_count": 63,
   "id": "26b71400",
   "metadata": {},
   "outputs": [
    {
     "name": "stdout",
     "output_type": "stream",
     "text": [
      "4.873702426222968\n",
      "[4.64291421]\n"
     ]
    },
    {
     "data": {
      "text/plain": [
       "[<matplotlib.lines.Line2D at 0x20f1d180e20>]"
      ]
     },
     "execution_count": 63,
     "metadata": {},
     "output_type": "execute_result"
    },
    {
     "data": {
      "image/png": "[encoded data removed]",
      "text/plain": [
       "<Figure size 432x288 with 1 Axes>"
      ]
     },
     "metadata": {
      "needs_background": "light"
     },
     "output_type": "display_data"
    }
   ],
   "source": [
    "y = data.iloc[:,3]\n",
    "x = data.iloc[:,9]\n",
    "X = np.array(x).reshape(-1, 1)\n",
    "Y = np.array(y)\n",
    "modelo = LinearRegression().fit(X, Y)\n",
    "print(modelo.intercept_)\n",
    "print (modelo.coef_)\n",
    "plt.scatter(X, Y)\n",
    "plt.plot(X, modelo.predict(X), color = 'red')"
   ]
  },
  {
   "cell_type": "code",
   "execution_count": 64,
   "id": "44780d06",
   "metadata": {},
   "outputs": [
    {
     "name": "stdout",
     "output_type": "stream",
     "text": [
      "[[1.         0.39694733]\n",
      " [0.39694733 1.        ]]\n"
     ]
    }
   ],
   "source": [
    "import numpy as np\n",
    "y = data.iloc[:,3]\n",
    "x = data.iloc[:,9]\n",
    "correlacao = np.corrcoef(x, y)\n",
    "print(correlacao)"
   ]
  },
  {
   "cell_type": "code",
   "execution_count": 65,
   "id": "3e15cab3",
   "metadata": {
    "scrolled": true
   },
   "outputs": [
    {
     "name": "stdout",
     "output_type": "stream",
     "text": [
      "0.15756718394361802\n"
     ]
    }
   ],
   "source": [
    "R2=correlacao[0,1]**2\n",
    "print(R2)"
   ]
  },
  {
   "cell_type": "code",
   "execution_count": 69,
   "id": "3f41f5b9",
   "metadata": {},
   "outputs": [],
   "source": [
    "# Regressão 7:"
   ]
  },
  {
   "cell_type": "code",
   "execution_count": 70,
   "id": "917f377b",
   "metadata": {},
   "outputs": [
    {
     "data": {
      "image/png": "[encoded data removed]",
      "text/plain": [
       "<Figure size 432x288 with 1 Axes>"
      ]
     },
     "metadata": {
      "needs_background": "light"
     },
     "output_type": "display_data"
    }
   ],
   "source": [
    "import numpy as np\n",
    "import matplotlib.pyplot as plt\n",
    "y = data.iloc[:,6]\n",
    "x = data.iloc[:,9]\n",
    "plt.plot(x, y, 'bo')\n",
    "plt.ylabel(\"x\", fontsize = 15)\n",
    "plt.xlabel(\"y\", fontsize = 15)\n",
    "plt.show(True)"
   ]
  },
  {
   "cell_type": "code",
   "execution_count": 71,
   "id": "c3a56814",
   "metadata": {},
   "outputs": [
    {
     "name": "stdout",
     "output_type": "stream",
     "text": [
      "0.5744715090272627\n",
      "[0.77850584]\n"
     ]
    },
    {
     "data": {
      "text/plain": [
       "[<matplotlib.lines.Line2D at 0x20f1e534760>]"
      ]
     },
     "execution_count": 71,
     "metadata": {},
     "output_type": "execute_result"
    },
    {
     "data": {
      "image/png": "[encoded data removed]",
      "text/plain": [
       "<Figure size 432x288 with 1 Axes>"
      ]
     },
     "metadata": {
      "needs_background": "light"
     },
     "output_type": "display_data"
    }
   ],
   "source": [
    "y = data.iloc[:,6]\n",
    "x = data.iloc[:,9]\n",
    "X = np.array(x).reshape(-1, 1)\n",
    "Y = np.array(y)\n",
    "modelo = LinearRegression().fit(X, Y)\n",
    "print(modelo.intercept_)\n",
    "print (modelo.coef_)\n",
    "plt.scatter(X, Y)\n",
    "plt.plot(X, modelo.predict(X), color = 'red')"
   ]
  },
  {
   "cell_type": "code",
   "execution_count": 72,
   "id": "3a94a733",
   "metadata": {},
   "outputs": [
    {
     "name": "stdout",
     "output_type": "stream",
     "text": [
      "[[1.         0.29355437]\n",
      " [0.29355437 1.        ]]\n"
     ]
    }
   ],
   "source": [
    "import numpy as np\n",
    "y = data.iloc[:,6]\n",
    "x = data.iloc[:,9]\n",
    "correlacao = np.corrcoef(x, y)\n",
    "print(correlacao)"
   ]
  },
  {
   "cell_type": "code",
   "execution_count": 73,
   "id": "9f3649d1",
   "metadata": {
    "scrolled": true
   },
   "outputs": [
    {
     "name": "stdout",
     "output_type": "stream",
     "text": [
      "0.0861741707212436\n"
     ]
    }
   ],
   "source": [
    "R2=correlacao[0,1]**2\n",
    "print(R2)"
   ]
  },
  {
   "cell_type": "code",
   "execution_count": null,
   "id": "e9e3e5a6",
   "metadata": {},
   "outputs": [],
   "source": [
    "# Regressão Linear Multipla:"
   ]
  },
  {
   "cell_type": "code",
   "execution_count": 91,
   "id": "db4d64fd",
   "metadata": {},
   "outputs": [],
   "source": [
    "y = data.iloc[:,3]\n",
    "x = data.iloc[:,4:9]\n",
    "#X = np.array(x).reshape(-1, 1)\n",
    "y = np.array(y)"
   ]
  },
  {
   "cell_type": "code",
   "execution_count": 92,
   "id": "9d638c66",
   "metadata": {},
   "outputs": [],
   "source": [
    "from sklearn.linear_model import LinearRegression\n",
    "# modelo de regressão linear múltipla\n",
    "modelo = LinearRegression().fit(x, y)\n",
    "y_pred = modelo.predict(x)"
   ]
  },
  {
   "cell_type": "code",
   "execution_count": 93,
   "id": "bd567add",
   "metadata": {},
   "outputs": [
    {
     "data": {
      "image/png": "[encoded data removed]",
      "text/plain": [
       "<Figure size 432x288 with 1 Axes>"
      ]
     },
     "metadata": {
      "needs_background": "light"
     },
     "output_type": "display_data"
    }
   ],
   "source": [
    "import matplotlib.pyplot as plt\n",
    "fig = plt.figure()\n",
    "l = plt.plot(y_pred, y, 'bo')\n",
    "plt.setp(l, markersize=10)\n",
    "plt.setp(l, markerfacecolor='C0')\n",
    "plt.ylabel(\"y\", fontsize=15)\n",
    "plt.xlabel(\"Prediction\", fontsize=15)\n",
    "# mostra os valores preditos e originais\n",
    "xl = np.arange(min(y), 1.2*max(y),(max(y)-min(y))/10)\n",
    "yl = xl\n",
    "plt.plot(xl, yl, 'r--')\n",
    "plt.show(True)"
   ]
  },
  {
   "cell_type": "code",
   "execution_count": 94,
   "id": "2ea551e1",
   "metadata": {},
   "outputs": [
    {
     "name": "stdout",
     "output_type": "stream",
     "text": [
      "R2: 0.779924648689957\n"
     ]
    }
   ],
   "source": [
    "from sklearn.metrics import r2_score\n",
    "R2 = r2_score(y, y_pred)\n",
    "print('R2:', R2)"
   ]
  },
  {
   "cell_type": "code",
   "execution_count": 95,
   "id": "f858b018",
   "metadata": {},
   "outputs": [],
   "source": [
    "import statistics\n",
    "import pandas as pd\n",
    "from scipy import stats\n",
    "from scipy.stats import norm\n",
    "import statsmodels.api as sm\n",
    "# não usar numpy array"
   ]
  },
  {
   "cell_type": "code",
   "execution_count": 96,
   "id": "79385253",
   "metadata": {},
   "outputs": [
    {
     "data": {
      "text/html": [
       "<div>\n",
       "<style scoped>\n",
       "    .dataframe tbody tr th:only-of-type {\n",
       "        vertical-align: middle;\n",
       "    }\n",
       "\n",
       "    .dataframe tbody tr th {\n",
       "        vertical-align: top;\n",
       "    }\n",
       "\n",
       "    .dataframe thead th {\n",
       "        text-align: right;\n",
       "    }\n",
       "</style>\n",
       "<table border=\"1\" class=\"dataframe\">\n",
       "  <thead>\n",
       "    <tr style=\"text-align: right;\">\n",
       "      <th></th>\n",
       "      <th>Overall rank</th>\n",
       "      <th>Country or region</th>\n",
       "      <th>Year</th>\n",
       "      <th>Score</th>\n",
       "      <th>GDP per capita</th>\n",
       "      <th>Social support</th>\n",
       "      <th>Healthy life expectancy</th>\n",
       "      <th>Freedom to make life choices</th>\n",
       "      <th>Generosity</th>\n",
       "      <th>Perceptions of corruption</th>\n",
       "    </tr>\n",
       "  </thead>\n",
       "  <tbody>\n",
       "    <tr>\n",
       "      <th>0</th>\n",
       "      <td>154</td>\n",
       "      <td>Afghanistan</td>\n",
       "      <td>2019</td>\n",
       "      <td>3.203</td>\n",
       "      <td>0.350</td>\n",
       "      <td>0.517</td>\n",
       "      <td>0.361</td>\n",
       "      <td>0.000</td>\n",
       "      <td>0.158</td>\n",
       "      <td>0.025</td>\n",
       "    </tr>\n",
       "    <tr>\n",
       "      <th>1</th>\n",
       "      <td>145</td>\n",
       "      <td>Afghanistan</td>\n",
       "      <td>2018</td>\n",
       "      <td>3.632</td>\n",
       "      <td>0.332</td>\n",
       "      <td>0.537</td>\n",
       "      <td>0.255</td>\n",
       "      <td>0.085</td>\n",
       "      <td>0.191</td>\n",
       "      <td>0.036</td>\n",
       "    </tr>\n",
       "    <tr>\n",
       "      <th>2</th>\n",
       "      <td>107</td>\n",
       "      <td>Albania</td>\n",
       "      <td>2019</td>\n",
       "      <td>4.719</td>\n",
       "      <td>0.947</td>\n",
       "      <td>0.848</td>\n",
       "      <td>0.874</td>\n",
       "      <td>0.383</td>\n",
       "      <td>0.178</td>\n",
       "      <td>0.027</td>\n",
       "    </tr>\n",
       "    <tr>\n",
       "      <th>3</th>\n",
       "      <td>112</td>\n",
       "      <td>Albania</td>\n",
       "      <td>2018</td>\n",
       "      <td>4.586</td>\n",
       "      <td>0.916</td>\n",
       "      <td>0.817</td>\n",
       "      <td>0.790</td>\n",
       "      <td>0.419</td>\n",
       "      <td>0.149</td>\n",
       "      <td>0.032</td>\n",
       "    </tr>\n",
       "    <tr>\n",
       "      <th>4</th>\n",
       "      <td>88</td>\n",
       "      <td>Algeria</td>\n",
       "      <td>2019</td>\n",
       "      <td>5.211</td>\n",
       "      <td>1.002</td>\n",
       "      <td>1.160</td>\n",
       "      <td>0.785</td>\n",
       "      <td>0.086</td>\n",
       "      <td>0.073</td>\n",
       "      <td>0.114</td>\n",
       "    </tr>\n",
       "    <tr>\n",
       "      <th>5</th>\n",
       "      <td>84</td>\n",
       "      <td>Algeria</td>\n",
       "      <td>2018</td>\n",
       "      <td>5.295</td>\n",
       "      <td>0.979</td>\n",
       "      <td>1.154</td>\n",
       "      <td>0.687</td>\n",
       "      <td>0.077</td>\n",
       "      <td>0.055</td>\n",
       "      <td>0.135</td>\n",
       "    </tr>\n",
       "    <tr>\n",
       "      <th>6</th>\n",
       "      <td>142</td>\n",
       "      <td>Angola</td>\n",
       "      <td>2018</td>\n",
       "      <td>3.795</td>\n",
       "      <td>0.730</td>\n",
       "      <td>1.125</td>\n",
       "      <td>0.269</td>\n",
       "      <td>0.000</td>\n",
       "      <td>0.079</td>\n",
       "      <td>0.061</td>\n",
       "    </tr>\n",
       "    <tr>\n",
       "      <th>7</th>\n",
       "      <td>47</td>\n",
       "      <td>Argentina</td>\n",
       "      <td>2019</td>\n",
       "      <td>6.086</td>\n",
       "      <td>1.092</td>\n",
       "      <td>1.432</td>\n",
       "      <td>0.881</td>\n",
       "      <td>0.471</td>\n",
       "      <td>0.066</td>\n",
       "      <td>0.050</td>\n",
       "    </tr>\n",
       "    <tr>\n",
       "      <th>8</th>\n",
       "      <td>29</td>\n",
       "      <td>Argentina</td>\n",
       "      <td>2018</td>\n",
       "      <td>6.388</td>\n",
       "      <td>1.073</td>\n",
       "      <td>1.468</td>\n",
       "      <td>0.744</td>\n",
       "      <td>0.570</td>\n",
       "      <td>0.062</td>\n",
       "      <td>0.054</td>\n",
       "    </tr>\n",
       "    <tr>\n",
       "      <th>9</th>\n",
       "      <td>116</td>\n",
       "      <td>Armenia</td>\n",
       "      <td>2019</td>\n",
       "      <td>4.559</td>\n",
       "      <td>0.850</td>\n",
       "      <td>1.055</td>\n",
       "      <td>0.815</td>\n",
       "      <td>0.283</td>\n",
       "      <td>0.095</td>\n",
       "      <td>0.064</td>\n",
       "    </tr>\n",
       "    <tr>\n",
       "      <th>10</th>\n",
       "      <td>129</td>\n",
       "      <td>Armenia</td>\n",
       "      <td>2018</td>\n",
       "      <td>4.321</td>\n",
       "      <td>0.816</td>\n",
       "      <td>0.990</td>\n",
       "      <td>0.666</td>\n",
       "      <td>0.260</td>\n",
       "      <td>0.077</td>\n",
       "      <td>0.028</td>\n",
       "    </tr>\n",
       "    <tr>\n",
       "      <th>11</th>\n",
       "      <td>11</td>\n",
       "      <td>Australia</td>\n",
       "      <td>2019</td>\n",
       "      <td>7.228</td>\n",
       "      <td>1.372</td>\n",
       "      <td>1.548</td>\n",
       "      <td>1.036</td>\n",
       "      <td>0.557</td>\n",
       "      <td>0.332</td>\n",
       "      <td>0.290</td>\n",
       "    </tr>\n",
       "    <tr>\n",
       "      <th>12</th>\n",
       "      <td>10</td>\n",
       "      <td>Australia</td>\n",
       "      <td>2018</td>\n",
       "      <td>7.272</td>\n",
       "      <td>1.340</td>\n",
       "      <td>1.573</td>\n",
       "      <td>0.910</td>\n",
       "      <td>0.647</td>\n",
       "      <td>0.361</td>\n",
       "      <td>0.302</td>\n",
       "    </tr>\n",
       "    <tr>\n",
       "      <th>13</th>\n",
       "      <td>10</td>\n",
       "      <td>Austria</td>\n",
       "      <td>2019</td>\n",
       "      <td>7.246</td>\n",
       "      <td>1.376</td>\n",
       "      <td>1.475</td>\n",
       "      <td>1.016</td>\n",
       "      <td>0.532</td>\n",
       "      <td>0.244</td>\n",
       "      <td>0.226</td>\n",
       "    </tr>\n",
       "    <tr>\n",
       "      <th>14</th>\n",
       "      <td>12</td>\n",
       "      <td>Austria</td>\n",
       "      <td>2018</td>\n",
       "      <td>7.139</td>\n",
       "      <td>1.341</td>\n",
       "      <td>1.504</td>\n",
       "      <td>0.891</td>\n",
       "      <td>0.617</td>\n",
       "      <td>0.242</td>\n",
       "      <td>0.224</td>\n",
       "    </tr>\n",
       "    <tr>\n",
       "      <th>15</th>\n",
       "      <td>90</td>\n",
       "      <td>Azerbaijan</td>\n",
       "      <td>2019</td>\n",
       "      <td>5.208</td>\n",
       "      <td>1.043</td>\n",
       "      <td>1.147</td>\n",
       "      <td>0.769</td>\n",
       "      <td>0.351</td>\n",
       "      <td>0.035</td>\n",
       "      <td>0.182</td>\n",
       "    </tr>\n",
       "    <tr>\n",
       "      <th>16</th>\n",
       "      <td>87</td>\n",
       "      <td>Azerbaijan</td>\n",
       "      <td>2018</td>\n",
       "      <td>5.201</td>\n",
       "      <td>1.024</td>\n",
       "      <td>1.161</td>\n",
       "      <td>0.603</td>\n",
       "      <td>0.430</td>\n",
       "      <td>0.031</td>\n",
       "      <td>0.176</td>\n",
       "    </tr>\n",
       "    <tr>\n",
       "      <th>17</th>\n",
       "      <td>37</td>\n",
       "      <td>Bahrain</td>\n",
       "      <td>2019</td>\n",
       "      <td>6.199</td>\n",
       "      <td>1.362</td>\n",
       "      <td>1.368</td>\n",
       "      <td>0.871</td>\n",
       "      <td>0.536</td>\n",
       "      <td>0.255</td>\n",
       "      <td>0.110</td>\n",
       "    </tr>\n",
       "    <tr>\n",
       "      <th>18</th>\n",
       "      <td>43</td>\n",
       "      <td>Bahrain</td>\n",
       "      <td>2018</td>\n",
       "      <td>6.105</td>\n",
       "      <td>1.338</td>\n",
       "      <td>1.366</td>\n",
       "      <td>0.698</td>\n",
       "      <td>0.594</td>\n",
       "      <td>0.243</td>\n",
       "      <td>0.123</td>\n",
       "    </tr>\n",
       "    <tr>\n",
       "      <th>19</th>\n",
       "      <td>125</td>\n",
       "      <td>Bangladesh</td>\n",
       "      <td>2019</td>\n",
       "      <td>4.456</td>\n",
       "      <td>0.562</td>\n",
       "      <td>0.928</td>\n",
       "      <td>0.723</td>\n",
       "      <td>0.527</td>\n",
       "      <td>0.166</td>\n",
       "      <td>0.143</td>\n",
       "    </tr>\n",
       "    <tr>\n",
       "      <th>20</th>\n",
       "      <td>115</td>\n",
       "      <td>Bangladesh</td>\n",
       "      <td>2018</td>\n",
       "      <td>4.500</td>\n",
       "      <td>0.532</td>\n",
       "      <td>0.850</td>\n",
       "      <td>0.579</td>\n",
       "      <td>0.580</td>\n",
       "      <td>0.153</td>\n",
       "      <td>0.144</td>\n",
       "    </tr>\n",
       "    <tr>\n",
       "      <th>21</th>\n",
       "      <td>81</td>\n",
       "      <td>Belarus</td>\n",
       "      <td>2019</td>\n",
       "      <td>5.323</td>\n",
       "      <td>1.067</td>\n",
       "      <td>1.465</td>\n",
       "      <td>0.789</td>\n",
       "      <td>0.235</td>\n",
       "      <td>0.094</td>\n",
       "      <td>0.142</td>\n",
       "    </tr>\n",
       "    <tr>\n",
       "      <th>22</th>\n",
       "      <td>73</td>\n",
       "      <td>Belarus</td>\n",
       "      <td>2018</td>\n",
       "      <td>5.483</td>\n",
       "      <td>1.039</td>\n",
       "      <td>1.498</td>\n",
       "      <td>0.700</td>\n",
       "      <td>0.307</td>\n",
       "      <td>0.101</td>\n",
       "      <td>0.154</td>\n",
       "    </tr>\n",
       "    <tr>\n",
       "      <th>23</th>\n",
       "      <td>18</td>\n",
       "      <td>Belgium</td>\n",
       "      <td>2019</td>\n",
       "      <td>6.923</td>\n",
       "      <td>1.356</td>\n",
       "      <td>1.504</td>\n",
       "      <td>0.986</td>\n",
       "      <td>0.473</td>\n",
       "      <td>0.160</td>\n",
       "      <td>0.210</td>\n",
       "    </tr>\n",
       "    <tr>\n",
       "      <th>24</th>\n",
       "      <td>16</td>\n",
       "      <td>Belgium</td>\n",
       "      <td>2018</td>\n",
       "      <td>6.927</td>\n",
       "      <td>1.324</td>\n",
       "      <td>1.483</td>\n",
       "      <td>0.894</td>\n",
       "      <td>0.583</td>\n",
       "      <td>0.188</td>\n",
       "      <td>0.240</td>\n",
       "    </tr>\n",
       "  </tbody>\n",
       "</table>\n",
       "</div>"
      ],
      "text/plain": [
       "    Overall rank Country or region  Year  Score  GDP per capita  \\\n",
       "0            154       Afghanistan  2019  3.203           0.350   \n",
       "1            145       Afghanistan  2018  3.632           0.332   \n",
       "2            107           Albania  2019  4.719           0.947   \n",
       "3            112           Albania  2018  4.586           0.916   \n",
       "4             88           Algeria  2019  5.211           1.002   \n",
       "5             84           Algeria  2018  5.295           0.979   \n",
       "6            142            Angola  2018  3.795           0.730   \n",
       "7             47         Argentina  2019  6.086           1.092   \n",
       "8             29         Argentina  2018  6.388           1.073   \n",
       "9            116           Armenia  2019  4.559           0.850   \n",
       "10           129           Armenia  2018  4.321           0.816   \n",
       "11            11         Australia  2019  7.228           1.372   \n",
       "12            10         Australia  2018  7.272           1.340   \n",
       "13            10           Austria  2019  7.246           1.376   \n",
       "14            12           Austria  2018  7.139           1.341   \n",
       "15            90        Azerbaijan  2019  5.208           1.043   \n",
       "16            87        Azerbaijan  2018  5.201           1.024   \n",
       "17            37           Bahrain  2019  6.199           1.362   \n",
       "18            43           Bahrain  2018  6.105           1.338   \n",
       "19           125        Bangladesh  2019  4.456           0.562   \n",
       "20           115        Bangladesh  2018  4.500           0.532   \n",
       "21            81           Belarus  2019  5.323           1.067   \n",
       "22            73           Belarus  2018  5.483           1.039   \n",
       "23            18           Belgium  2019  6.923           1.356   \n",
       "24            16           Belgium  2018  6.927           1.324   \n",
       "\n",
       "    Social support  Healthy life expectancy  Freedom to make life choices  \\\n",
       "0            0.517                    0.361                         0.000   \n",
       "1            0.537                    0.255                         0.085   \n",
       "2            0.848                    0.874                         0.383   \n",
       "3            0.817                    0.790                         0.419   \n",
       "4            1.160                    0.785                         0.086   \n",
       "5            1.154                    0.687                         0.077   \n",
       "6            1.125                    0.269                         0.000   \n",
       "7            1.432                    0.881                         0.471   \n",
       "8            1.468                    0.744                         0.570   \n",
       "9            1.055                    0.815                         0.283   \n",
       "10           0.990                    0.666                         0.260   \n",
       "11           1.548                    1.036                         0.557   \n",
       "12           1.573                    0.910                         0.647   \n",
       "13           1.475                    1.016                         0.532   \n",
       "14           1.504                    0.891                         0.617   \n",
       "15           1.147                    0.769                         0.351   \n",
       "16           1.161                    0.603                         0.430   \n",
       "17           1.368                    0.871                         0.536   \n",
       "18           1.366                    0.698                         0.594   \n",
       "19           0.928                    0.723                         0.527   \n",
       "20           0.850                    0.579                         0.580   \n",
       "21           1.465                    0.789                         0.235   \n",
       "22           1.498                    0.700                         0.307   \n",
       "23           1.504                    0.986                         0.473   \n",
       "24           1.483                    0.894                         0.583   \n",
       "\n",
       "    Generosity  Perceptions of corruption  \n",
       "0        0.158                      0.025  \n",
       "1        0.191                      0.036  \n",
       "2        0.178                      0.027  \n",
       "3        0.149                      0.032  \n",
       "4        0.073                      0.114  \n",
       "5        0.055                      0.135  \n",
       "6        0.079                      0.061  \n",
       "7        0.066                      0.050  \n",
       "8        0.062                      0.054  \n",
       "9        0.095                      0.064  \n",
       "10       0.077                      0.028  \n",
       "11       0.332                      0.290  \n",
       "12       0.361                      0.302  \n",
       "13       0.244                      0.226  \n",
       "14       0.242                      0.224  \n",
       "15       0.035                      0.182  \n",
       "16       0.031                      0.176  \n",
       "17       0.255                      0.110  \n",
       "18       0.243                      0.123  \n",
       "19       0.166                      0.143  \n",
       "20       0.153                      0.144  \n",
       "21       0.094                      0.142  \n",
       "22       0.101                      0.154  \n",
       "23       0.160                      0.210  \n",
       "24       0.188                      0.240  "
      ]
     },
     "execution_count": 96,
     "metadata": {},
     "output_type": "execute_result"
    }
   ],
   "source": [
    "data = pd.read_csv('happiness_2018-2019.csv', header=(0))\n",
    "data.head(25)"
   ]
  },
  {
   "cell_type": "code",
   "execution_count": 98,
   "id": "6d7a323c",
   "metadata": {},
   "outputs": [
    {
     "data": {
      "text/html": [
       "<table class=\"simpletable\">\n",
       "<caption>OLS Regression Results</caption>\n",
       "<tr>\n",
       "  <th>Dep. Variable:</th>          <td>Score</td>      <th>  R-squared:         </th> <td>   0.784</td>\n",
       "</tr>\n",
       "<tr>\n",
       "  <th>Model:</th>                   <td>OLS</td>       <th>  Adj. R-squared:    </th> <td>   0.779</td>\n",
       "</tr>\n",
       "<tr>\n",
       "  <th>Method:</th>             <td>Least Squares</td>  <th>  F-statistic:       </th> <td>   184.0</td>\n",
       "</tr>\n",
       "<tr>\n",
       "  <th>Date:</th>             <td>Mon, 13 May 2024</td> <th>  Prob (F-statistic):</th> <td>3.21e-98</td>\n",
       "</tr>\n",
       "<tr>\n",
       "  <th>Time:</th>                 <td>22:59:10</td>     <th>  Log-Likelihood:    </th> <td> -237.33</td>\n",
       "</tr>\n",
       "<tr>\n",
       "  <th>No. Observations:</th>      <td>   312</td>      <th>  AIC:               </th> <td>   488.7</td>\n",
       "</tr>\n",
       "<tr>\n",
       "  <th>Df Residuals:</th>          <td>   305</td>      <th>  BIC:               </th> <td>   514.9</td>\n",
       "</tr>\n",
       "<tr>\n",
       "  <th>Df Model:</th>              <td>     6</td>      <th>                     </th>     <td> </td>   \n",
       "</tr>\n",
       "<tr>\n",
       "  <th>Covariance Type:</th>      <td>nonrobust</td>    <th>                     </th>     <td> </td>   \n",
       "</tr>\n",
       "</table>\n",
       "<table class=\"simpletable\">\n",
       "<tr>\n",
       "                <td></td>                  <th>coef</th>     <th>std err</th>      <th>t</th>      <th>P>|t|</th>  <th>[0.025</th>    <th>0.975]</th>  \n",
       "</tr>\n",
       "<tr>\n",
       "  <th>const</th>                        <td>    1.8563</td> <td>    0.141</td> <td>   13.207</td> <td> 0.000</td> <td>    1.580</td> <td>    2.133</td>\n",
       "</tr>\n",
       "<tr>\n",
       "  <th>GDP per capita</th>               <td>    0.9395</td> <td>    0.145</td> <td>    6.502</td> <td> 0.000</td> <td>    0.655</td> <td>    1.224</td>\n",
       "</tr>\n",
       "<tr>\n",
       "  <th>Social support</th>               <td>    1.0582</td> <td>    0.152</td> <td>    6.962</td> <td> 0.000</td> <td>    0.759</td> <td>    1.357</td>\n",
       "</tr>\n",
       "<tr>\n",
       "  <th>Healthy life expectancy</th>      <td>    0.9393</td> <td>    0.210</td> <td>    4.483</td> <td> 0.000</td> <td>    0.527</td> <td>    1.352</td>\n",
       "</tr>\n",
       "<tr>\n",
       "  <th>Freedom to make life choices</th> <td>    1.4093</td> <td>    0.234</td> <td>    6.022</td> <td> 0.000</td> <td>    0.949</td> <td>    1.870</td>\n",
       "</tr>\n",
       "<tr>\n",
       "  <th>Generosity</th>                   <td>    0.5315</td> <td>    0.339</td> <td>    1.569</td> <td> 0.118</td> <td>   -0.135</td> <td>    1.198</td>\n",
       "</tr>\n",
       "<tr>\n",
       "  <th>Perceptions of corruption</th>    <td>    0.8473</td> <td>    0.375</td> <td>    2.259</td> <td> 0.025</td> <td>    0.109</td> <td>    1.585</td>\n",
       "</tr>\n",
       "</table>\n",
       "<table class=\"simpletable\">\n",
       "<tr>\n",
       "  <th>Omnibus:</th>       <td>14.060</td> <th>  Durbin-Watson:     </th> <td>   1.099</td>\n",
       "</tr>\n",
       "<tr>\n",
       "  <th>Prob(Omnibus):</th> <td> 0.001</td> <th>  Jarque-Bera (JB):  </th> <td>  14.818</td>\n",
       "</tr>\n",
       "<tr>\n",
       "  <th>Skew:</th>          <td>-0.482</td> <th>  Prob(JB):          </th> <td>0.000606</td>\n",
       "</tr>\n",
       "<tr>\n",
       "  <th>Kurtosis:</th>      <td> 3.457</td> <th>  Cond. No.          </th> <td>    28.3</td>\n",
       "</tr>\n",
       "</table><br/><br/>Notes:<br/>[1] Standard Errors assume that the covariance matrix of the errors is correctly specified."
      ],
      "text/plain": [
       "<class 'statsmodels.iolib.summary.Summary'>\n",
       "\"\"\"\n",
       "                            OLS Regression Results                            \n",
       "==============================================================================\n",
       "Dep. Variable:                  Score   R-squared:                       0.784\n",
       "Model:                            OLS   Adj. R-squared:                  0.779\n",
       "Method:                 Least Squares   F-statistic:                     184.0\n",
       "Date:                Mon, 13 May 2024   Prob (F-statistic):           3.21e-98\n",
       "Time:                        22:59:10   Log-Likelihood:                -237.33\n",
       "No. Observations:                 312   AIC:                             488.7\n",
       "Df Residuals:                     305   BIC:                             514.9\n",
       "Df Model:                           6                                         \n",
       "Covariance Type:            nonrobust                                         \n",
       "================================================================================================\n",
       "                                   coef    std err          t      P>|t|      [0.025      0.975]\n",
       "------------------------------------------------------------------------------------------------\n",
       "const                            1.8563      0.141     13.207      0.000       1.580       2.133\n",
       "GDP per capita                   0.9395      0.145      6.502      0.000       0.655       1.224\n",
       "Social support                   1.0582      0.152      6.962      0.000       0.759       1.357\n",
       "Healthy life expectancy          0.9393      0.210      4.483      0.000       0.527       1.352\n",
       "Freedom to make life choices     1.4093      0.234      6.022      0.000       0.949       1.870\n",
       "Generosity                       0.5315      0.339      1.569      0.118      -0.135       1.198\n",
       "Perceptions of corruption        0.8473      0.375      2.259      0.025       0.109       1.585\n",
       "==============================================================================\n",
       "Omnibus:                       14.060   Durbin-Watson:                   1.099\n",
       "Prob(Omnibus):                  0.001   Jarque-Bera (JB):               14.818\n",
       "Skew:                          -0.482   Prob(JB):                     0.000606\n",
       "Kurtosis:                       3.457   Cond. No.                         28.3\n",
       "==============================================================================\n",
       "\n",
       "Notes:\n",
       "[1] Standard Errors assume that the covariance matrix of the errors is correctly specified.\n",
       "\"\"\""
      ]
     },
     "execution_count": 98,
     "metadata": {},
     "output_type": "execute_result"
    }
   ],
   "source": [
    "y = data.iloc[:,3]\n",
    "x = data.iloc[:,4:9]\n",
    "X = sm.add_constant(X)\n",
    "est = sm.OLS(y, X).fit()\n",
    "est.summary()"
   ]
  }
 ],
 "metadata": {
  "kernelspec": {
   "display_name": "Python 3",
   "language": "python",
   "name": "python3"
  },
  "language_info": {
   "codemirror_mode": {
    "name": "ipython",
    "version": 3
   },
   "file_extension": ".py",
   "mimetype": "text/x-python",
   "name": "python",
   "nbconvert_exporter": "python",
   "pygments_lexer": "ipython3",
   "version": "3.8.8"
  }
 },
 "nbformat": 4,
 "nbformat_minor": 5
}
